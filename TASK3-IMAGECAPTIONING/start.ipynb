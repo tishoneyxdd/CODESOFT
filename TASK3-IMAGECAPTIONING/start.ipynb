{
 "cells": [
  {
   "cell_type": "code",
   "execution_count": 37,
   "metadata": {},
   "outputs": [],
   "source": [
    "import numpy\n",
    "import tensorflow as tf\n",
    "import tensorflow_hub as hub\n",
    "import cv2\n",
    "import mediapipe as mp\n",
    "from tkinter import Tk, filedialog"
   ]
  },
  {
   "cell_type": "code",
   "execution_count": 38,
   "metadata": {},
   "outputs": [
    {
     "name": "stdout",
     "output_type": "stream",
     "text": [
      "INFO:tensorflow:Saver not created because there are no variables in the graph to restore\n"
     ]
    },
    {
     "name": "stderr",
     "output_type": "stream",
     "text": [
      "INFO:tensorflow:Saver not created because there are no variables in the graph to restore\n"
     ]
    }
   ],
   "source": [
    "model = hub.load(\"./mobilenet-v2-tensorflow1-openimages-v4-ssd-mobilenet-v2-v1\").signatures[\"default\"]"
   ]
  },
  {
   "cell_type": "code",
   "execution_count": 39,
   "metadata": {},
   "outputs": [],
   "source": [
    "import random\n",
    "import math"
   ]
  },
  {
   "cell_type": "code",
   "execution_count": 40,
   "metadata": {},
   "outputs": [],
   "source": [
    "colorcodes = {}"
   ]
  },
  {
   "cell_type": "code",
   "execution_count": 41,
   "metadata": {},
   "outputs": [],
   "source": [
    "def drawbox(image,ymin,xmin,ymax,xmax,namewithscore,color):\n",
    "    im_height, im_width, _  = image.shape\n",
    "    left,top,right,bottom = int(xmin*im_width), int(ymin*im_height), int(xmax*im_width),int(ymax*im_height)\n",
    "    cv2.rectangle(image,(left,top),(right,bottom),color = color,thickness = 4)\n",
    "    FONT_SCALE = 5e-3\n",
    "    THICKNESS_SCALE = 4e-3\n",
    "    width = right-left\n",
    "    height = bottom-top\n",
    "    TEXT_Y_OFFSET_SCALE = 1e-2\n",
    "    cv2.rectangle(\n",
    "        image,\n",
    "        (left,top- int(height * 6e-2)),\n",
    "        (right,top),\n",
    "        color = color,\n",
    "        thickness = -1\n",
    "        \n",
    "    )\n",
    "    cv2.putText(\n",
    "        image,\n",
    "        namewithscore,\n",
    "        (left,top-int(height * TEXT_Y_OFFSET_SCALE)),\n",
    "        fontFace = cv2.FONT_HERSHEY_PLAIN,\n",
    "        fontScale = min(width,height)* FONT_SCALE,\n",
    "        thickness = math.ceil(min(width,height)* THICKNESS_SCALE),\n",
    "        color = (255,255,255)\n",
    "    )"
   ]
  },
  {
   "cell_type": "code",
   "execution_count": 42,
   "metadata": {},
   "outputs": [],
   "source": [
    "def draw(image,boxes,classnames,scores):\n",
    "    boxesidx = tf.image.non_max_suppression(boxes,scores,max_output_size = 4, iou_threshold = 0.5,score_threshold = 0.1)\n",
    "#     for i in range(len(boxes)):\n",
    "    for i in boxesidx:\n",
    "        ymin,xmin,ymax,xmax = tuple(boxes[i])\n",
    "        classname = classnames[i].decode(\"ascii\")\n",
    "        if classname in colorcodes.keys():\n",
    "            color = colorcodes[classname]\n",
    "        else:\n",
    "            c1 = random.randrange(0,255,30)\n",
    "            c2 = random.randrange(0,255,25)\n",
    "            c3 = random.randrange(0,255,50)\n",
    "            colorcodes.update({classname: (c1,c2,c3)})\n",
    "            color = colorcodes[classname]\n",
    "        namewithscore = \"{}:{}\".format(classname,int(100*scores[i]))\n",
    "        drawbox(image,ymin,xmin,ymax,xmax,namewithscore,color)\n",
    "        \n",
    "    return image"
   ]
  },
  {
   "cell_type": "code",
   "execution_count": null,
   "metadata": {
    "notebookRunGroups": {
     "groupValue": "1"
    }
   },
   "outputs": [
    {
     "name": "stdout",
     "output_type": "stream",
     "text": [
      "Image loaded and processed successfully.\n"
     ]
    }
   ],
   "source": [
    "Tk().withdraw()\n",
    "\n",
    "# Open a file dialog to select an image\n",
    "file_path = filedialog.askopenfilename(\n",
    "    title=\"Select an Image\",\n",
    "    filetypes=[(\"Image Files\", \"*.png;*.jpg;*.jpeg;*.bmp\")]\n",
    ")\n",
    "\n",
    "# Check if a file was selected\n",
    "if file_path:\n",
    "    # Load and process the image\n",
    "    image = cv2.imread(file_path)\n",
    "    image = cv2.resize(image, (800, 600))\n",
    "    image2 = cv2.cvtColor(image, cv2.COLOR_BGR2RGB)\n",
    "    converted_img = tf.image.convert_image_dtype(image2, tf.float32)[tf.newaxis, ...]\n",
    "    print(\"Image loaded and processed successfully.\")\n",
    "else:\n",
    "    print(\"No file selected.\")\n",
    "\n",
    "detection=model(converted_img)\n",
    "\n",
    "print(detection[\"detection_class_entities\"])\n",
    "\n",
    "\n",
    "result={key:value.numpy() for key,value in detection.items()}\n",
    "imagewithboxes=draw(image,result[\"detection_boxes\"],result[\"detection_class_entities\"],result[  \"detection_scores\"])\n",
    "cv2.imshow(\"image\",imagewithboxes)\n",
    "cv2.waitKey(0)"
   ]
  }
 ],
 "metadata": {
  "kernelspec": {
   "display_name": "Python 3",
   "language": "python",
   "name": "python3"
  },
  "language_info": {
   "codemirror_mode": {
    "name": "ipython",
    "version": 3
   },
   "file_extension": ".py",
   "mimetype": "text/x-python",
   "name": "python",
   "nbconvert_exporter": "python",
   "pygments_lexer": "ipython3",
   "version": "3.11.8"
  }
 },
 "nbformat": 4,
 "nbformat_minor": 2
}
